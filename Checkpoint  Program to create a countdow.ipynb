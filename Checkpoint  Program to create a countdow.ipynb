{
 "cells": [
  {
   "cell_type": "code",
   "execution_count": 1,
   "id": "ce496981",
   "metadata": {},
   "outputs": [
    {
     "name": "stdout",
     "output_type": "stream",
     "text": [
      "Enter the length of countdown in seconds: 40\n",
      "Fire in the hole!\n"
     ]
    }
   ],
   "source": [
    "import time  # 1. The `import time` statement imports the `time` module.\n",
    "\n",
    "def countdown(t):\n",
    "    while t:  # 5. The `while` loop runs as long as `t` is non-zero.\n",
    "        mins, secs = divmod(t, 60)  # 6. The `divmod` function calculates the number of minutes and seconds remaining in the countdown.\n",
    "        timeformat = '{:02d}:{:02d}'.format(mins, secs)  # 7. The `timeformat` variable is created using the `format` method to display the time in the format `mm:ss`.\n",
    "        print(timeformat, end='\\r')  # 8. The time remaining is printed to the console with a carriage return character to overwrite the previous time displayed.\n",
    "        time.sleep(1)  # 9. The program pauses execution for one second using the `time.sleep` function.\n",
    "        t -= 1  # 10. The `t` variable is decremented by one second for each iteration of the loop.\n",
    "    \n",
    "    print(\"Fire in the hole!\")  # 11. When the countdown is complete, the message \"Fire in the hole!\" is printed to the console.\n",
    "\n",
    "seconds = int(input(\"Enter the length of countdown in seconds: \"))  # 2. The user is prompted to input the length of the countdown in seconds.\n",
    "countdown(seconds)  # 3. The user's input is passed as an argument to the `countdown` function.\n"
   ]
  }
 ],
 "metadata": {
  "kernelspec": {
   "display_name": "Python 3 (ipykernel)",
   "language": "python",
   "name": "python3"
  },
  "language_info": {
   "codemirror_mode": {
    "name": "ipython",
    "version": 3
   },
   "file_extension": ".py",
   "mimetype": "text/x-python",
   "name": "python",
   "nbconvert_exporter": "python",
   "pygments_lexer": "ipython3",
   "version": "3.9.13"
  }
 },
 "nbformat": 4,
 "nbformat_minor": 5
}
